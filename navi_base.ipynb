{
  "nbformat": 4,
  "nbformat_minor": 0,
  "metadata": {
    "colab": {
      "provenance": [],
      "authorship_tag": "ABX9TyNdZ/8t5f3xysyBKtnFxkNv",
      "include_colab_link": true
    },
    "kernelspec": {
      "name": "python3",
      "display_name": "Python 3"
    },
    "language_info": {
      "name": "python"
    }
  },
  "cells": [
    {
      "cell_type": "markdown",
      "metadata": {
        "id": "view-in-github",
        "colab_type": "text"
      },
      "source": [
        "<a href=\"https://colab.research.google.com/github/bittu876/internal/blob/main/navi_base.ipynb\" target=\"_parent\"><img src=\"https://colab.research.google.com/assets/colab-badge.svg\" alt=\"Open In Colab\"/></a>"
      ]
    },
    {
      "cell_type": "code",
      "execution_count": 2,
      "metadata": {
        "colab": {
          "base_uri": "https://localhost:8080/"
        },
        "id": "FY8ABjwbV1SI",
        "outputId": "d8765488-e0c3-4054-e0f9-fbed34deb009"
      },
      "outputs": [
        {
          "output_type": "stream",
          "name": "stdout",
          "text": [
            "corpus\n",
            "['ilikedthemovie', 'itsagoodmovienicestory', 'herosactingisbadbutheroinelooksgoodoverallnicemovie', 'nicesongsbutsadlyboringending', 'sadmovieboringmovie']\n",
            "\n",
            " x Values \n",
            "\n",
            "[[0 1 0 0 0]\n",
            " [0 0 1 0 0]\n",
            " [1 0 0 0 0]\n",
            " [0 0 0 1 0]\n",
            " [0 0 0 0 1]]\n",
            "\n",
            " y iloc values \n",
            "\n",
            "['positive' 'positive' 'positive' 'negative' 'negative']\n",
            " \n",
            " y_pred values \n",
            "\n",
            "['positive' 'positive']\n",
            "\n",
            " Accuracy \n",
            "\n",
            "0.5\n"
          ]
        },
        {
          "output_type": "stream",
          "name": "stderr",
          "text": [
            "[nltk_data] Downloading package stopwords to /root/nltk_data...\n",
            "[nltk_data]   Package stopwords is already up-to-date!\n"
          ]
        }
      ],
      "source": [
        "import pandas as pd\n",
        "import re\n",
        "import nltk\n",
        "from nltk.corpus import stopwords\n",
        "from nltk.stem.porter import PorterStemmer\n",
        "from sklearn.feature_extraction.text import CountVectorizer\n",
        "from sklearn.metrics import accuracy_score\n",
        "dataset = [[\"I liked the movie\", \"positive\"],\n",
        "           [\"It’s a good movie. Nice story\", \"positive\"],\n",
        "           [\"Hero’s acting is bad but heroine looks good.\\\n",
        "            Overall nice movie\", \"positive\"],\n",
        "            [\"Nice songs. But sadly boring ending.\", \"negative\"],\n",
        "            [\"sad movie, boring movie\", \"negative\"]]\n",
        "             \n",
        "dataset = pd.DataFrame(dataset)\n",
        "dataset.columns = [\"Text\", \"Reviews\"]\n",
        "\n",
        "nltk.download('stopwords')\n",
        "\n",
        "corpus = []\n",
        "\n",
        "for i in range(0, 5):\n",
        "    text = re.sub('[^a-zA-Z]', '', dataset['Text'][i])\n",
        "    text = text.lower()\n",
        "    text = text.split()\n",
        "    ps = PorterStemmer()\n",
        "    text = ''.join(text)\n",
        "    corpus.append(text)\n",
        "print(\"corpus\")\n",
        "print(corpus)\n",
        "cv = CountVectorizer(max_features = 1500)\n",
        "\n",
        "X = cv.fit_transform(corpus).toarray()\n",
        "print(\"\\n x Values \\n\")\n",
        "print(X)\n",
        "y = dataset.iloc[:, 1].values\n",
        "print(\"\\n y iloc values \\n\")\n",
        "print(y)\n",
        "\n",
        "from sklearn.model_selection import train_test_split\n",
        "\n",
        "X_train, X_test, y_train, y_test = train_test_split(\n",
        "           X, y, test_size = 0.25, random_state =42)\n",
        "\n",
        "from sklearn.naive_bayes import GaussianNB\n",
        "from sklearn.metrics import confusion_matrix\n",
        "\n",
        "classifier = GaussianNB();\n",
        "classifier.fit(X_train, y_train)\n",
        "y_pred = classifier.predict(X_test)\n",
        "print(\" \\n y_pred values \\n\")\n",
        "print(y_pred)\n",
        "cm = confusion_matrix(y_test, y_pred)\n",
        "acc=accuracy_score(y_test,y_pred)\n",
        "print(\"\\n Accuracy \\n\")\n",
        "print(acc)"
      ]
    }
  ]
}